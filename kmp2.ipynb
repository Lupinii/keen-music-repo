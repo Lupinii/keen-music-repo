{
 "cells": [
  {
   "cell_type": "code",
   "execution_count": 5,
   "id": "83d0dc46",
   "metadata": {},
   "outputs": [
    {
     "data": {
      "application/vnd.microsoft.datawrangler.viewer.v0+json": {
       "columns": [
        {
         "name": "index",
         "rawType": "object",
         "type": "string"
        },
        {
         "name": "age",
         "rawType": "float64",
         "type": "float"
        }
       ],
       "ref": "16dccd69-3f95-4b23-a55c-c989a2587acc",
       "rows": [
        [
         "count",
         "50.0"
        ],
        [
         "mean",
         "40.18"
        ],
        [
         "std",
         "10.368102575708255"
        ],
        [
         "min",
         "20.0"
        ],
        [
         "25%",
         "33.0"
        ],
        [
         "50%",
         "43.0"
        ],
        [
         "75%",
         "49.0"
        ],
        [
         "max",
         "57.0"
        ]
       ],
       "shape": {
        "columns": 1,
        "rows": 8
       }
      },
      "text/html": [
       "<div>\n",
       "<style scoped>\n",
       "    .dataframe tbody tr th:only-of-type {\n",
       "        vertical-align: middle;\n",
       "    }\n",
       "\n",
       "    .dataframe tbody tr th {\n",
       "        vertical-align: top;\n",
       "    }\n",
       "\n",
       "    .dataframe thead th {\n",
       "        text-align: right;\n",
       "    }\n",
       "</style>\n",
       "<table border=\"1\" class=\"dataframe\">\n",
       "  <thead>\n",
       "    <tr style=\"text-align: right;\">\n",
       "      <th></th>\n",
       "      <th>age</th>\n",
       "    </tr>\n",
       "  </thead>\n",
       "  <tbody>\n",
       "    <tr>\n",
       "      <th>count</th>\n",
       "      <td>50.000000</td>\n",
       "    </tr>\n",
       "    <tr>\n",
       "      <th>mean</th>\n",
       "      <td>40.180000</td>\n",
       "    </tr>\n",
       "    <tr>\n",
       "      <th>std</th>\n",
       "      <td>10.368103</td>\n",
       "    </tr>\n",
       "    <tr>\n",
       "      <th>min</th>\n",
       "      <td>20.000000</td>\n",
       "    </tr>\n",
       "    <tr>\n",
       "      <th>25%</th>\n",
       "      <td>33.000000</td>\n",
       "    </tr>\n",
       "    <tr>\n",
       "      <th>50%</th>\n",
       "      <td>43.000000</td>\n",
       "    </tr>\n",
       "    <tr>\n",
       "      <th>75%</th>\n",
       "      <td>49.000000</td>\n",
       "    </tr>\n",
       "    <tr>\n",
       "      <th>max</th>\n",
       "      <td>57.000000</td>\n",
       "    </tr>\n",
       "  </tbody>\n",
       "</table>\n",
       "</div>"
      ],
      "text/plain": [
       "             age\n",
       "count  50.000000\n",
       "mean   40.180000\n",
       "std    10.368103\n",
       "min    20.000000\n",
       "25%    33.000000\n",
       "50%    43.000000\n",
       "75%    49.000000\n",
       "max    57.000000"
      ]
     },
     "execution_count": 5,
     "metadata": {},
     "output_type": "execute_result"
    }
   ],
   "source": [
    "import pandas as pd\n",
    "import numpy as np\n",
    "# Define the number of rows and columns\n",
    "rows, cols = 50, 4\n",
    "# Generate random data based on existing columns\n",
    "data = {\n",
    "    \"age\": np.random.randint(18, 60, size=rows),\n",
    "    \"gender\": np.random.choice([\"Male\", \"Female\"], size=rows),\n",
    "    \"genre\": np.random.choice([\"HipHop\", \"Acoustic\", \"Reggae\", \"Classic\", \"Amapiano\", \"Jazz\", \"Dancehall\"], size=rows),\n",
    "    \"obsession\": np.random.choice([\"High\", \"Moderate\", \"Low\"], size=rows),\n",
    "}\n",
    "# Create a new DataFrame\n",
    "kmp = pd.DataFrame(data)\n",
    "kmp.describe() # Display the first 10 rows of the DataFrame"
   ]
  },
  {
   "cell_type": "code",
   "execution_count": 6,
   "id": "8ca4781e",
   "metadata": {},
   "outputs": [
    {
     "name": "stdout",
     "output_type": "stream",
     "text": [
      "\n",
      "Test Accuracy: 0.3000\n",
      "Training Accuracy: 0.8750\n",
      "\n",
      "Predicted genre for sample: HipHop\n"
     ]
    }
   ],
   "source": [
    "import pandas as pd\n",
    "import numpy as np\n",
    "from sklearn.tree import DecisionTreeClassifier\n",
    "from sklearn.preprocessing import OrdinalEncoder, OneHotEncoder, LabelEncoder\n",
    "from sklearn.compose import ColumnTransformer\n",
    "from sklearn.model_selection import train_test_split\n",
    "from sklearn.metrics import accuracy_score\n",
    "\n",
    "# Load the dataset\n",
    "# kmp = pd.read_excel('MusicKeen.xlsx')\n",
    "\n",
    "X = kmp.drop(columns=['genre'])\n",
    "y = kmp['genre']\n",
    "\n",
    "# Define features\n",
    "numerical_features = ['age']\n",
    "categorical_features = ['gender', 'obsession']\n",
    "ordinal_features = {'obsession': ['Low', 'Moderate', 'High']}\n",
    "\n",
    "# Split data BEFORE any encoding/preprocessing\n",
    "X_train, X_test, y_train, y_test = train_test_split(\n",
    "    X, y, test_size=0.2, random_state=42, stratify=y\n",
    ")\n",
    "\n",
    "# --- PREPROCESSING PIPELINE ---\n",
    "\n",
    "# Create copies for training and test data\n",
    "train_encoded = X_train.copy()\n",
    "test_encoded = X_test.copy()\n",
    "\n",
    "# Ordinal encoding (fit only on training data)\n",
    "ordinal_encoders = {}\n",
    "for feature, categories in ordinal_features.items():\n",
    "    encoder = OrdinalEncoder(categories=[categories])\n",
    "    train_encoded[feature] = encoder.fit_transform(X_train[[feature]])\n",
    "    test_encoded[feature] = encoder.transform(X_test[[feature]])\n",
    "    ordinal_encoders[feature] = encoder\n",
    "\n",
    "# Identify non-ordinal categorical features\n",
    "remaining_categoricals = [f for f in categorical_features if f not in ordinal_features]\n",
    "\n",
    "# ColumnTransformer setup\n",
    "preprocessor = ColumnTransformer(\n",
    "    transformers=[\n",
    "        ('num', 'passthrough', numerical_features),\n",
    "        ('cat', OneHotEncoder(handle_unknown='ignore'), remaining_categoricals),\n",
    "        ('ord', 'passthrough', list(ordinal_features.keys()))\n",
    "    ]\n",
    ")\n",
    "\n",
    "# Label encode target (fit only on training data)\n",
    "le = LabelEncoder()\n",
    "y_train_encoded = le.fit_transform(y_train)\n",
    "y_test_encoded = le.transform(y_test)\n",
    "\n",
    "# Apply preprocessing (fit only on training data)\n",
    "X_train_transformed = preprocessor.fit_transform(train_encoded)\n",
    "X_test_transformed = preprocessor.transform(test_encoded)\n",
    "\n",
    "# --- MODEL TRAINING & EVALUATION ---\n",
    "model = DecisionTreeClassifier(random_state=42)\n",
    "model.fit(X_train_transformed, y_train_encoded)\n",
    "\n",
    "# Evaluate on test set\n",
    "test_pred = model.predict(X_test_transformed)\n",
    "test_accuracy = accuracy_score(y_test_encoded, test_pred)\n",
    "print(f\"\\nTest Accuracy: {test_accuracy:.4f}\")\n",
    "\n",
    "# Evaluate on training set (for potential overfitting check)\n",
    "train_pred = model.predict(X_train_transformed)\n",
    "train_accuracy = accuracy_score(y_train_encoded, train_pred)\n",
    "print(f\"Training Accuracy: {train_accuracy:.4f}\")\n",
    "\n",
    "# --- SAMPLE PREDICTION ---\n",
    "sample_data = {'age': 24, 'gender': 'Female', 'obsession': 'High'}\n",
    "sample = pd.DataFrame([sample_data])\n",
    "\n",
    "# Encode sample using pre-trained encoders\n",
    "sample_encoded = sample.copy()\n",
    "for feature, encoder in ordinal_encoders.items():\n",
    "    sample_encoded[feature] = encoder.transform(sample[[feature]])\n",
    "    \n",
    "sample_transformed = preprocessor.transform(sample_encoded)\n",
    "prediction_encoded = model.predict(sample_transformed)\n",
    "prediction = le.inverse_transform(prediction_encoded)\n",
    "\n",
    "print(f\"\\nPredicted genre for sample: {prediction[0]}\")"
   ]
  },
  {
   "cell_type": "markdown",
   "id": "df06f736",
   "metadata": {},
   "source": [
    "We are going to explain the code step by step in detail.\n",
    "\n",
    "1. Importing necessary libraries:\n",
    "\n",
    "- pandas: for data manipulation and analysis.\n",
    "\n",
    "- numpy: for numerical operations.\n",
    "\n",
    "- DecisionTreeClassifier: a machine learning model for classification.\n",
    "\n",
    "- OrdinalEncoder, OneHotEncoder, LabelEncoder: for encoding categorical variables.\n",
    "\n",
    "- ColumnTransformer: to apply different transformations to different columns.\n",
    "\n",
    "- train_test_split: to split the dataset into training and testing sets.\n",
    "\n",
    "- accuracy_score: to evaluate the model's performance.\n",
    "\n",
    "2. Loading the dataset:\n",
    "\n",
    "- The dataset is loaded from an Excel file named 'MusicKeen.xlsx' into a DataFrame called `kmp`.\n",
    "\n",
    "3. Defining features and target:\n",
    "\n",
    "- `X` is the feature matrix, which includes all columns except 'genre'.\n",
    "\n",
    "- `y` is the target vector, which is the 'genre' column.\n",
    "\n",
    "4. Defining feature types:\n",
    "\n",
    "- `numerical_features`: list of numerical features (here, only 'age').\n",
    "\n",
    "- `categorical_features`: list of categorical features (here, 'gender' and 'obsession').\n",
    "\n",
    "- `ordinal_features`: a dictionary specifying which categorical features are ordinal and their categories (here, 'obsession' has ordered categories: 'Low', 'Moderate', 'High').\n",
    "\n",
    "5. Splitting the data:\n",
    "\n",
    "- The data is split into training and testing sets (80% training, 20% testing) using `train_test_split`.\n",
    "\n",
    "- `random_state=42` ensures reproducibility.\n",
    "\n",
    "- `stratify=y` ensures that the class distribution in the splits is the same as in the original dataset.\n",
    "\n",
    "6. Preprocessing pipeline:\n",
    "\n",
    "- We create copies of the training and test sets to avoid modifying the original data during encoding.\n",
    "\n",
    "7. Ordinal encoding for the 'obsession' feature:\n",
    "\n",
    "- For each ordinal feature (here only 'obsession'), we:\n",
    "\n",
    "a. Create an `OrdinalEncoder` with the specified categories.\n",
    "\n",
    "b. Fit the encoder on the training data and transform the training feature.\n",
    "\n",
    "c. Transform the test feature using the same encoder (without fitting again to avoid data leakage).\n",
    "\n",
    "- The encoders are stored in `ordinal_encoders` for later use (e.g., on new samples).\n",
    "\n",
    "8. Identifying remaining categorical features:\n",
    "\n",
    "- The remaining categorical features (those not ordinal) are identified. Here, 'gender' is the remaining one.\n",
    "\n",
    "9. Setting up the ColumnTransformer:\n",
    "\n",
    "- The `ColumnTransformer` applies different preprocessing to different columns:\n",
    "\n",
    "a. Numerical features ('age') are passed through without any change (using 'passthrough').\n",
    "\n",
    "b. The remaining categorical features (here, 'gender') are one-hot encoded. `handle_unknown='ignore'` ensures that if the test set or a new sample has a category not seen during training, it will be ignored (resulting in all zeros for that category).\n",
    "\n",
    "c. The ordinal features (here, 'obsession') are passed through (because we already encoded them).\n",
    "\n",
    "10. Encoding the target variable:\n",
    "\n",
    "- The target variable (genre) is encoded using `LabelEncoder` (if it's of string type).\n",
    "\n",
    "a. The encoder is fitted only on the training target (`y_train`).\n",
    "\n",
    "b. The training target is transformed to `y_train_encoded`.\n",
    "\n",
    "c. The test target is transformed using the same encoder (without fitting) to `y_test_encoded`.\n",
    "\n",
    "11. Applying the preprocessing to the features:\n",
    "\n",
    "- The `preprocessor` (ColumnTransformer) is fitted on the training data (`train_encoded`) and then used to transform both the training and test data.\n",
    "\n",
    "a. `fit_transform` is used for the training data to learn the parameters (like one-hot encoding categories) and transform.\n",
    "\n",
    "b. `transform` is used for the test data (using the parameters learned from the training data) to avoid data leakage.\n",
    "\n",
    "12. Model training:\n",
    "\n",
    "- A `DecisionTreeClassifier` is instantiated with `random_state=42` for reproducibility.\n",
    "\n",
    "- The model is trained on the preprocessed training data (`X_train_transformed`) and the encoded training labels (`y_train_encoded`).\n",
    "\n",
    "13. Model evaluation:\n",
    "\n",
    "- Predictions are made on the preprocessed test set (`X_test_transformed`), and the accuracy is computed by comparing to `y_test_encoded`.\n",
    "\n",
    "- Similarly, predictions are made on the training set to compute training accuracy (to check for overfitting: high training accuracy and low test accuracy indicates overfitting).\n",
    "\n",
    "14. Sample prediction:\n",
    "\n",
    "- A sample data point (dictionary) is created and converted to a DataFrame.\n",
    "\n",
    "- The sample is preprocessed using the same steps as the training data:\n",
    "\n",
    "a. The ordinal feature ('obsession') is transformed using the stored ordinal encoder.\n",
    "\n",
    "b. The entire sample is transformed using the pre-trained `preprocessor` (ColumnTransformer) which will handle the numerical feature and the one-hot encoding for 'gender'.\n",
    "\n",
    "- The model predicts the encoded genre for the preprocessed sample.\n",
    "\n",
    "- The encoded prediction is then inverse-transformed using the label encoder (`le`) to get the original genre label.\n",
    "\n",
    "15. Printing results:\n",
    "\n",
    "- The test accuracy and training accuracy are printed.\n",
    "\n",
    "- The predicted genre for the sample is printed.\n",
    "\n",
    "Important considerations:\n",
    "\n",
    "- The code avoids data leakage by splitting the data before any preprocessing and by fitting the preprocessing steps (encoders, ColumnTransformer) only on the training data.\n",
    "\n",
    "- The same preprocessing steps are applied to the test data and new samples without re-fitting.\n",
    "\n",
    "- The use of `stratify=y` in the split ensures that the class distribution is maintained in both training and test sets."
   ]
  },
  {
   "cell_type": "markdown",
   "id": "60b9750d",
   "metadata": {},
   "source": [
    "1. Import Libraries & Load Data"
   ]
  },
  {
   "cell_type": "code",
   "execution_count": null,
   "id": "6a8befe1",
   "metadata": {},
   "outputs": [],
   "source": [
    "import pandas as pd\n",
    "import numpy as np\n",
    "from sklearn.tree import DecisionTreeClassifier\n",
    "from sklearn.preprocessing import OrdinalEncoder, OneHotEncoder, LabelEncoder\n",
    "from sklearn.compose import ColumnTransformer\n",
    "from sklearn.model_selection import train_test_split\n",
    "from sklearn.metrics import accuracy_score\n",
    "\n",
    "# Load dataset\n",
    "kmp = pd.read_excel('MusicKeen.xlsx')\n",
    "X = kmp.drop(columns=['genre'])  # Features\n",
    "y = kmp['genre']  # Target"
   ]
  },
  {
   "cell_type": "markdown",
   "id": "a6469702",
   "metadata": {},
   "source": [
    "Loads music preference data from Excel\n",
    "\n",
    "Separates features (X) from target (y = genre)"
   ]
  },
  {
   "cell_type": "markdown",
   "id": "65d8e782",
   "metadata": {},
   "source": [
    "2. Feature Specification"
   ]
  },
  {
   "cell_type": "code",
   "execution_count": null,
   "id": "26766033",
   "metadata": {},
   "outputs": [],
   "source": [
    "numerical_features = ['age']\n",
    "categorical_features = ['gender', 'obsession']\n",
    "ordinal_features = {'obsession': ['Low', 'Moderate', 'High']}"
   ]
  },
  {
   "cell_type": "markdown",
   "id": "d19c24be",
   "metadata": {},
   "source": [
    "Classifies features by type:\n",
    "\n",
    "Numerical: Continuous values (age)\n",
    "\n",
    "Categorical: Discrete values (gender, obsession)\n",
    "\n",
    "Ordinal: Categorical with inherent order (obsession levels)"
   ]
  },
  {
   "cell_type": "markdown",
   "id": "4cba6d4d",
   "metadata": {},
   "source": [
    "3. Data Splitting"
   ]
  },
  {
   "cell_type": "code",
   "execution_count": null,
   "id": "f01edf1f",
   "metadata": {},
   "outputs": [],
   "source": [
    "X_train, X_test, y_train, y_test = train_test_split(\n",
    "    X, y, test_size=0.2, random_state=42, stratify=y\n",
    ")"
   ]
  },
  {
   "cell_type": "markdown",
   "id": "3b1c00e9",
   "metadata": {},
   "source": [
    "Splits data BEFORE preprocessing to prevent leakage\n",
    "\n",
    "80% training, 20% testing\n",
    "\n",
    "stratify=y: Maintains genre proportion in splits\n",
    "\n",
    "random_state=42: Ensures reproducibility"
   ]
  },
  {
   "cell_type": "markdown",
   "id": "b8e6f4ee",
   "metadata": {},
   "source": [
    "4. Preprocessing Pipeline\n",
    "\n",
    "(a) Ordinal Encoding"
   ]
  },
  {
   "cell_type": "markdown",
   "id": "cba78bf7",
   "metadata": {},
   "source": [
    "ordinal_encoders = {}\n",
    "for feature, categories in ordinal_features.items():\n",
    "    encoder = OrdinalEncoder(categories=[categories])\n",
    "    train_encoded[feature] = encoder.fit_transform(X_train[[feature]])\n",
    "    test_encoded[feature] = encoder.transform(X_test[[feature]])"
   ]
  },
  {
   "cell_type": "markdown",
   "id": "e4db0521",
   "metadata": {},
   "source": [
    "Converts obsession levels to numerical values (Low=0, Moderate=1, High=2)\n",
    "\n",
    "Fit ONLY on training data to prevent test data leakage"
   ]
  },
  {
   "cell_type": "markdown",
   "id": "e57c389f",
   "metadata": {},
   "source": [
    "(b) Column Transformation Setup"
   ]
  },
  {
   "cell_type": "code",
   "execution_count": null,
   "id": "d126c32c",
   "metadata": {},
   "outputs": [],
   "source": [
    "remaining_categoricals = ['gender']  # Non-ordinal categorical\n",
    "\n",
    "preprocessor = ColumnTransformer(\n",
    "    transformers=[\n",
    "        ('num', 'passthrough', numerical_features),          # Age: no transformation\n",
    "        ('cat', OneHotEncoder(handle_unknown='ignore'),      # Gender: one-hot\n",
    "        ('ord', 'passthrough', list(ordinal_features.keys())) # Obsession: already encoded\n",
    "    ]\n",
    ")"
   ]
  },
  {
   "cell_type": "markdown",
   "id": "29a135b3",
   "metadata": {},
   "source": [
    "Handles different feature types separately:\n",
    "\n",
    "Numerical features: Pass through unchanged\n",
    "\n",
    "Categorical: One-hot encode gender (e.g., Male=[1,0], Female=[0,1])\n",
    "\n",
    "Ordinal: Use pre-encoded values"
   ]
  },
  {
   "cell_type": "markdown",
   "id": "69481977",
   "metadata": {},
   "source": [
    "(c) Target Encoding"
   ]
  },
  {
   "cell_type": "code",
   "execution_count": null,
   "id": "35410271",
   "metadata": {},
   "outputs": [],
   "source": [
    "le = LabelEncoder()\n",
    "y_train_encoded = le.fit_transform(y_train)  # Fit only on train\n",
    "y_test_encoded = le.transform(y_test)        # Transform test"
   ]
  },
  {
   "cell_type": "markdown",
   "id": "88a47165",
   "metadata": {},
   "source": [
    "Converts genre strings to numerical labels\n",
    "\n",
    "Preserves mapping for inverse transformation later"
   ]
  },
  {
   "cell_type": "markdown",
   "id": "aaf47ce0",
   "metadata": {},
   "source": [
    "(d) Apply Transformations"
   ]
  },
  {
   "cell_type": "code",
   "execution_count": null,
   "id": "511e6857",
   "metadata": {},
   "outputs": [],
   "source": [
    "X_train_transformed = preprocessor.fit_transform(train_encoded)\n",
    "X_test_transformed = preprocessor.transform(test_encoded)"
   ]
  },
  {
   "cell_type": "markdown",
   "id": "87492612",
   "metadata": {},
   "source": [
    "fit_transform(): Learns parameters from training data\n",
    "\n",
    "transform(): Applies same transformation to test data"
   ]
  },
  {
   "cell_type": "markdown",
   "id": "29fcc034",
   "metadata": {},
   "source": [
    "5. Model Training & Evaluation"
   ]
  },
  {
   "cell_type": "code",
   "execution_count": null,
   "id": "59a3999d",
   "metadata": {},
   "outputs": [],
   "source": [
    "model = DecisionTreeClassifier(random_state=42)\n",
    "model.fit(X_train_transformed, y_train_encoded)\n",
    "\n",
    "# Test evaluation\n",
    "test_pred = model.predict(X_test_transformed)\n",
    "test_accuracy = accuracy_score(y_test_encoded, test_pred)\n",
    "\n",
    "# Training evaluation (overfitting check)\n",
    "train_pred = model.predict(X_train_transformed)\n",
    "train_accuracy = accuracy_score(y_train_encoded, train_pred)"
   ]
  },
  {
   "cell_type": "markdown",
   "id": "1cc49490",
   "metadata": {},
   "source": [
    "Trains decision tree classifier\n",
    "\n",
    "Reports both test accuracy (true performance) and training accuracy (overfitting indicator)"
   ]
  },
  {
   "cell_type": "markdown",
   "id": "b0c7df69",
   "metadata": {},
   "source": [
    "6. Sample Prediction"
   ]
  },
  {
   "cell_type": "code",
   "execution_count": null,
   "id": "59ecc967",
   "metadata": {},
   "outputs": [],
   "source": [
    "sample = {'age':40, 'gender':'Female', 'obsession':'Moderate'}\n",
    "\n",
    "# Apply same preprocessing\n",
    "for feature, encoder in ordinal_encoders.items():\n",
    "    sample_encoded[feature] = encoder.transform(sample[[feature]])\n",
    "sample_transformed = preprocessor.transform(sample_encoded)\n",
    "\n",
    "# Predict and decode\n",
    "prediction_encoded = model.predict(sample_transformed)\n",
    "prediction = le.inverse_transform(prediction_encoded)"
   ]
  },
  {
   "cell_type": "markdown",
   "id": "6812512d",
   "metadata": {},
   "source": [
    "Preprocesses sample identically to training data\n",
    "\n",
    "Uses stored encoders (no refitting)\n",
    "\n",
    "Makes prediction\n",
    "\n",
    "Converts numerical label back to genre name"
   ]
  },
  {
   "cell_type": "markdown",
   "id": "901b2203",
   "metadata": {},
   "source": [
    "Key Concepts Illustrated:\n",
    "Data Leakage Prevention:\n",
    "\n",
    "Splitting before preprocessing\n",
    "\n",
    "Fitting encoders ONLY on training data\n",
    "\n",
    "Using transform() (not fit_transform()) for test/sample data\n",
    "\n",
    "Feature Engineering:\n",
    "\n",
    "Different processing for different feature types\n",
    "\n",
    "Ordinal vs nominal categorical handling\n",
    "\n",
    "Target encoding with inverse capability\n",
    "\n",
    "Model Evaluation:\n",
    "\n",
    "Test accuracy: True performance metric\n",
    "\n",
    "Training accuracy: Overfitting detector\n",
    "\n",
    "Stratified sampling: Maintains class balance\n",
    "\n",
    "Reproducibility:\n",
    "\n",
    "random_state in both splitting and model\n",
    "\n",
    "Storing encoders for consistent transformations\n",
    "\n",
    "The pipeline ensures that new data (test data or real-world samples) undergoes identical preprocessing as the training data, maintaining model integrity and performance reliability"
   ]
  }
 ],
 "metadata": {
  "kernelspec": {
   "display_name": "py310-env",
   "language": "python",
   "name": "python3"
  },
  "language_info": {
   "codemirror_mode": {
    "name": "ipython",
    "version": 3
   },
   "file_extension": ".py",
   "mimetype": "text/x-python",
   "name": "python",
   "nbconvert_exporter": "python",
   "pygments_lexer": "ipython3",
   "version": "3.10.16"
  }
 },
 "nbformat": 4,
 "nbformat_minor": 5
}
